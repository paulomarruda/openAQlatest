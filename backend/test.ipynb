{
 "cells": [
  {
   "cell_type": "code",
   "execution_count": 1,
   "id": "d0a3fc2a-7b73-47a4-9e28-6434f176bcab",
   "metadata": {},
   "outputs": [
    {
     "ename": "SyntaxError",
     "evalue": "cannot assign to expression here. Maybe you meant '==' instead of '='? (models.py, line 195)",
     "output_type": "error",
     "traceback": [
      "Traceback \u001b[0;36m(most recent call last)\u001b[0m:\n",
      "\u001b[0m  File \u001b[1;32m/usr/lib/python3.11/site-packages/IPython/core/interactiveshell.py:3508\u001b[0m in \u001b[1;35mrun_code\u001b[0m\n    exec(code_obj, self.user_global_ns, self.user_ns)\u001b[0m\n",
      "\u001b[0;36m  Cell \u001b[0;32mIn[1], line 1\u001b[0;36m\n\u001b[0;31m    from models import DataFetcher, OpenAQ\u001b[0;36m\n",
      "\u001b[0;36m  File \u001b[0;32m~/proj/OpenAQ/openaq_simple/backend/models.py:195\u001b[0;36m\u001b[0m\n\u001b[0;31m    self-fetcher = DataFetcher()\u001b[0m\n\u001b[0m    ^\u001b[0m\n\u001b[0;31mSyntaxError\u001b[0m\u001b[0;31m:\u001b[0m cannot assign to expression here. Maybe you meant '==' instead of '='?\n"
     ]
    }
   ],
   "source": [
    "from models import DataFetcher, OpenAQ\n",
    "import datetime as dt"
   ]
  },
  {
   "cell_type": "code",
   "execution_count": 2,
   "id": "54601b54-950d-4419-99eb-e766b8e89e9e",
   "metadata": {},
   "outputs": [],
   "source": [
    "fetcher = DataFetcher()"
   ]
  },
  {
   "cell_type": "code",
   "execution_count": 3,
   "id": "fd40ad7c-eb7b-40f4-af97-3c3cc52dbee4",
   "metadata": {},
   "outputs": [],
   "source": [
    "params = fetcher.fetchParameters()"
   ]
  },
  {
   "cell_type": "code",
   "execution_count": 4,
   "id": "87ab9ee0-6b8f-4701-9cb4-2901520df86b",
   "metadata": {},
   "outputs": [],
   "source": [
    "locations = fetcher.fetchLocations()"
   ]
  },
  {
   "cell_type": "code",
   "execution_count": 5,
   "id": "52e97df2-3bd3-4d1d-bfd5-16da28a3b413",
   "metadata": {},
   "outputs": [],
   "source": [
    "meas = fetcher.fetchLatestMeasurements(locations, params)"
   ]
  },
  {
   "cell_type": "code",
   "execution_count": 6,
   "id": "734ac49d-bece-4ae8-ae69-c9863de78869",
   "metadata": {},
   "outputs": [],
   "source": [
    "loc = fetcher.prepareLocations(locations)"
   ]
  },
  {
   "cell_type": "code",
   "execution_count": 8,
   "id": "7067c08e-4755-4da5-9272-7314610c9411",
   "metadata": {},
   "outputs": [
    {
     "data": {
      "text/plain": [
       "['2023-08-05T17:27:12+00:00',\n",
       " '2023-08-05T14:00:00+00:00',\n",
       " '2023-08-05T14:00:00+00:00',\n",
       " '2023-08-05T14:00:00+00:00',\n",
       " '2023-08-05T14:00:00+00:00',\n",
       " '2023-08-05T14:00:00+00:00',\n",
       " '2023-08-05T14:00:00+00:00',\n",
       " '2023-08-05T14:00:00+00:00',\n",
       " '2023-08-05T14:00:00+00:00',\n",
       " '2023-08-05T14:00:00+00:00',\n",
       " '2023-08-05T14:00:00+00:00',\n",
       " '2023-08-05T14:00:00+00:00',\n",
       " '2023-08-05T14:00:00+00:00',\n",
       " '2023-08-05T14:00:00+00:00',\n",
       " '2023-08-05T14:00:00+00:00',\n",
       " '2023-08-05T14:00:00+00:00',\n",
       " '2023-08-05T14:00:00+00:00',\n",
       " '2023-08-05T14:00:00+00:00',\n",
       " '2023-08-05T14:00:00+00:00',\n",
       " '2023-08-05T14:00:00+00:00',\n",
       " '2023-08-05T14:00:00+00:00',\n",
       " '2023-08-05T14:00:00+00:00',\n",
       " '2023-08-05T14:00:00+00:00',\n",
       " '2023-08-05T14:00:00+00:00',\n",
       " '2023-08-05T14:00:00+00:00',\n",
       " '2023-08-05T14:00:00+00:00',\n",
       " '2023-08-05T14:00:00+00:00',\n",
       " '2023-08-05T14:00:00+00:00',\n",
       " '2023-08-05T14:00:00+00:00']"
      ]
     },
     "execution_count": 8,
     "metadata": {},
     "output_type": "execute_result"
    }
   ],
   "source": [
    "[loc.get(id_).get(\"lastUpdated\") for id_ in loc]"
   ]
  },
  {
   "cell_type": "code",
   "execution_count": null,
   "id": "abd127b2-4079-4f10-a517-341a3b370a97",
   "metadata": {},
   "outputs": [],
   "source": []
  }
 ],
 "metadata": {
  "kernelspec": {
   "display_name": "Python 3 (ipykernel)",
   "language": "python",
   "name": "python3"
  },
  "language_info": {
   "codemirror_mode": {
    "name": "ipython",
    "version": 3
   },
   "file_extension": ".py",
   "mimetype": "text/x-python",
   "name": "python",
   "nbconvert_exporter": "python",
   "pygments_lexer": "ipython3",
   "version": "3.11.3"
  }
 },
 "nbformat": 4,
 "nbformat_minor": 5
}
