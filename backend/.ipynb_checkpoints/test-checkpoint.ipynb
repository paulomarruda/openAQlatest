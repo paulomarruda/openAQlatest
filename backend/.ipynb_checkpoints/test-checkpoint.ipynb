{
 "cells": [
  {
   "cell_type": "code",
   "execution_count": 1,
   "id": "d0a3fc2a-7b73-47a4-9e28-6434f176bcab",
   "metadata": {},
   "outputs": [],
   "source": [
    "from models import DataFetcher\n",
    "import datetime as dt"
   ]
  },
  {
   "cell_type": "code",
   "execution_count": 2,
   "id": "54601b54-950d-4419-99eb-e766b8e89e9e",
   "metadata": {},
   "outputs": [],
   "source": [
    "fetcher = DataFetcher()"
   ]
  },
  {
   "cell_type": "code",
   "execution_count": 3,
   "id": "fd40ad7c-eb7b-40f4-af97-3c3cc52dbee4",
   "metadata": {},
   "outputs": [],
   "source": [
    "params = fetcher.fetchParameters()"
   ]
  },
  {
   "cell_type": "code",
   "execution_count": 4,
   "id": "87ab9ee0-6b8f-4701-9cb4-2901520df86b",
   "metadata": {},
   "outputs": [],
   "source": [
    "locations = fetcher.fetchLocations()"
   ]
  },
  {
   "cell_type": "code",
   "execution_count": 5,
   "id": "52e97df2-3bd3-4d1d-bfd5-16da28a3b413",
   "metadata": {},
   "outputs": [],
   "source": [
    "meas = fetcher.fetchLatestMeasurements(locations, params)"
   ]
  },
  {
   "cell_type": "code",
   "execution_count": 7,
   "id": "09591a6d-1ef9-4db2-b69c-f22aa94c6dd7",
   "metadata": {},
   "outputs": [
    {
     "data": {
      "text/plain": [
       "{129: {'name': 'um050',\n",
       "  'displayName': 'PM5.0 count',\n",
       "  'description': 'PM5.0 count',\n",
       "  'preferredUnit': 'particles/cm³'},\n",
       " 126: {'name': 'um010',\n",
       "  'displayName': 'PM1 count',\n",
       "  'description': 'PM1 count',\n",
       "  'preferredUnit': 'particles/cm³'},\n",
       " 134: {'name': 'humidity',\n",
       "  'displayName': 'H',\n",
       "  'description': 'H',\n",
       "  'preferredUnit': '%'},\n",
       " 132: {'name': 'pressure',\n",
       "  'displayName': None,\n",
       "  'description': 'n/a',\n",
       "  'preferredUnit': 'mb'},\n",
       " 1: {'name': 'pm10',\n",
       "  'displayName': 'PM10',\n",
       "  'description': 'Particulate matter less than 10 micrometers in diameter mass concentration',\n",
       "  'preferredUnit': 'µg/m³'},\n",
       " 125: {'name': 'um003',\n",
       "  'displayName': 'PM0.3 count',\n",
       "  'description': 'PM0.3 count',\n",
       "  'preferredUnit': 'particles/cm³'},\n",
       " 130: {'name': 'um025',\n",
       "  'displayName': 'PM2.5 count',\n",
       "  'description': 'PM2.5 count',\n",
       "  'preferredUnit': 'particles/cm³'},\n",
       " 133: {'name': 'um005',\n",
       "  'displayName': 'PM0.5',\n",
       "  'description': 'PM0.5',\n",
       "  'preferredUnit': 'particles/cm³'},\n",
       " 135: {'name': 'um100',\n",
       "  'displayName': 'PM10 count',\n",
       "  'description': 'PM10 count',\n",
       "  'preferredUnit': 'particles/cm³'},\n",
       " 19: {'name': 'pm1',\n",
       "  'displayName': 'PM1',\n",
       "  'description': 'Particulate matter less than 1 micrometer in diameter mass concentration',\n",
       "  'preferredUnit': 'µg/m³'},\n",
       " 19860: {'name': 'pm25',\n",
       "  'displayName': None,\n",
       "  'description': 'n/a',\n",
       "  'preferredUnit': 'ppm'},\n",
       " 128: {'name': 'temperature',\n",
       "  'displayName': 'T',\n",
       "  'description': 'T',\n",
       "  'preferredUnit': 'f'},\n",
       " 32: {'name': 'o3',\n",
       "  'displayName': 'O₃',\n",
       "  'description': 'O₃',\n",
       "  'preferredUnit': 'ppb'},\n",
       " 102: {'name': 'co',\n",
       "  'displayName': 'CO',\n",
       "  'description': 'CO',\n",
       "  'preferredUnit': 'ppb'},\n",
       " 15: {'name': 'no2',\n",
       "  'displayName': 'NO₂',\n",
       "  'description': 'NO₂',\n",
       "  'preferredUnit': 'ppb'},\n",
       " 101: {'name': 'so2',\n",
       "  'displayName': 'SO₂',\n",
       "  'description': 'SO₂',\n",
       "  'preferredUnit': 'ppb'},\n",
       " 19843: {'name': 'no',\n",
       "  'displayName': 'NO mass',\n",
       "  'description': 'Nitrogen Monoxide mass concentration',\n",
       "  'preferredUnit': 'µg/m³'}}"
      ]
     },
     "execution_count": 7,
     "metadata": {},
     "output_type": "execute_result"
    }
   ],
   "source": [
    "fetcher.parametersPresent(params,meas)"
   ]
  },
  {
   "cell_type": "code",
   "execution_count": null,
   "id": "734ac49d-bece-4ae8-ae69-c9863de78869",
   "metadata": {},
   "outputs": [],
   "source": []
  }
 ],
 "metadata": {
  "kernelspec": {
   "display_name": "Python 3 (ipykernel)",
   "language": "python",
   "name": "python3"
  },
  "language_info": {
   "codemirror_mode": {
    "name": "ipython",
    "version": 3
   },
   "file_extension": ".py",
   "mimetype": "text/x-python",
   "name": "python",
   "nbconvert_exporter": "python",
   "pygments_lexer": "ipython3",
   "version": "3.11.3"
  }
 },
 "nbformat": 4,
 "nbformat_minor": 5
}
